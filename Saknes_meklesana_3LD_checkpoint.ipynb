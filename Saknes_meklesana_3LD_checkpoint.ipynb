{
 "cells": [
  {
   "cell_type": "code",
   "execution_count": 1,
   "metadata": {
    "collapsed": false
   },
   "outputs": [
    {
     "name": "stdout",
     "output_type": "stream",
     "text": [
      "Funkcijas sin(x) dotaja intervala sakne(s) ir!\n",
      "('sin(x) Sakne ir:', 3.14206542968750)\n",
      "('y=', -0.00047277608009484905)\n",
      "('k=', 12)\n"
     ]
    }
   ],
   "source": [
    "'170.py'\n",
    "from math import sin, fabs\n",
    "from time import sleep\n",
    "\n",
    "def f(x):\n",
    "    return sin(x)\n",
    "k=0\n",
    "a = 1.1\n",
    "b = 3.2\n",
    "\n",
    "funa = f(a)\n",
    "funb = f(b)\n",
    "\n",
    "if (funa*funb>0.0):\n",
    "    print (\"Funkcijas sin(x) dotaja intervala [%s, %s] saknju nav\" %(a,b))\n",
    "    sleep(1); exit()\n",
    "else:\n",
    "    print (\"Funkcijas sin(x) dotaja intervala sakne(s) ir!\")\n",
    "\n",
    "deltax = 0.001\n",
    "\n",
    "while (fabs(b-a)>deltax):\n",
    "    k=k+1\n",
    "    x=(a+b)/2; funx=f(x)\n",
    "    if (funa*funx < 0.):\n",
    "        b=x       \n",
    "    else:\n",
    "        a=x\n",
    "print (\"sin(x) Sakne ir:\", x)\n",
    "print (\"y=\", sin(x))\n",
    "print (\"k=\", k)\n",
    "\n"
   ]
  },
  {
   "cell_type": "code",
   "execution_count": 2,
   "metadata": {
    "collapsed": false
   },
   "outputs": [
    {
     "name": "stdout",
     "output_type": "stream",
     "text": [
      "Funkcijas atan(x) dotaja intervala sakne(s) ir!\n",
      "('atan(x) sakne ir:', 3/32768)\n",
      "('f(x)=', 9.155273411920462e-05)\n",
      "('k=', 16)\n"
     ]
    }
   ],
   "source": [
    "'171.py'\n",
    "from math import atan, fabs\n",
    "from time import sleep\n",
    "\n",
    "def f(x):\n",
    "    return atan(x)\n",
    "k=0\n",
    "a = -3\n",
    "b = 3\n",
    "\n",
    "funa = f(a)\n",
    "funb = f(b)\n",
    "\n",
    "if (funa*funb>0.0):\n",
    "    print (\"Funkcijas atan(x) dotaja intervala [%s, %s] saknju nav\" %(a,b))\n",
    "    sleep(1); exit()\n",
    "else:\n",
    "    print (\"Funkcijas atan(x) dotaja intervala sakne(s) ir!\")\n",
    "\n",
    "deltax = 0.0001\n",
    "\n",
    "while (fabs(b-a)>deltax):\n",
    "    k=k+1\n",
    "    x=(a+b)/2; funx=f(x)\n",
    "    if (funa*funx < 0.):\n",
    "        b=x       \n",
    "    else:\n",
    "        a=x\n",
    "print (\"atan(x) sakne ir:\", x)\n",
    "print (\"f(x)=\", atan(x))\n",
    "print (\"k=\", k)\n"
   ]
  },
  {
   "cell_type": "code",
   "execution_count": 0,
   "metadata": {
    "collapsed": false
   },
   "outputs": [
   ],
   "source": [
   ]
  }
 ],
 "metadata": {
  "kernelspec": {
   "display_name": "SageMath (stable)",
   "language": "sagemath",
   "name": "sagemath"
  },
  "language_info": {
   "codemirror_mode": {
    "name": "ipython",
    "version": 2
   },
   "file_extension": ".py",
   "mimetype": "text/x-python",
   "name": "python",
   "nbconvert_exporter": "python",
   "pygments_lexer": "ipython2",
   "version": "2.7.15"
  }
 },
 "nbformat": 4,
 "nbformat_minor": 0
}